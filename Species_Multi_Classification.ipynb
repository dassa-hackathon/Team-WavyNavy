{
 "cells": [
  {
   "cell_type": "code",
   "execution_count": 299,
   "id": "fc10c73b",
   "metadata": {},
   "outputs": [],
   "source": [
    "import pandas as pd\n",
    "import numpy as np\n",
    "import pandas as pd\n",
    "from sklearn.model_selection import GridSearchCV,TimeSeriesSplit,train_test_split,KFold,StratifiedKFold\n",
    "import lightgbm as lgb\n",
    "from xgboost import XGBRegressor\n",
    "from rfpimp import *\n",
    "from sklearn.metrics import mean_squared_error,mean_absolute_error,accuracy_score,f1_score\n",
    "from math import sqrt\n",
    "from sklearn.neighbors import KNeighborsClassifier\n",
    "import numpy as np\n",
    "from matplotlib_venn import venn2, venn2_circles\n",
    "from collections import Counter\n",
    "from sklearn.feature_extraction.text import TfidfVectorizer,CountVectorizer"
   ]
  },
  {
   "cell_type": "code",
   "execution_count": 300,
   "id": "e73099d4",
   "metadata": {},
   "outputs": [
    {
     "name": "stderr",
     "output_type": "stream",
     "text": [
      "C:\\Users\\kjuneja\\AppData\\Local\\Temp\\ipykernel_19808\\448774766.py:1: DtypeWarning: Columns (6,7) have mixed types. Specify dtype option on import or set low_memory=False.\n",
      "  df_train = pd.read_csv(\"training.csv\")\n"
     ]
    }
   ],
   "source": [
    "df_train = pd.read_csv(\"training.csv\")\n",
    "df_test = pd.read_csv(\"testing.csv\")"
   ]
  },
  {
   "cell_type": "code",
   "execution_count": 301,
   "id": "094d4b2f",
   "metadata": {},
   "outputs": [
    {
     "data": {
      "text/plain": [
       "11"
      ]
     },
     "execution_count": 301,
     "metadata": {},
     "output_type": "execute_result"
    }
   ],
   "source": [
    "df_train['Kingdom'].nunique()"
   ]
  },
  {
   "cell_type": "code",
   "execution_count": 302,
   "id": "c7276053",
   "metadata": {},
   "outputs": [
    {
     "data": {
      "text/plain": [
       "bct    2298\n",
       "vrl    2237\n",
       "pln    1959\n",
       "vrt    1636\n",
       "inv    1064\n",
       "mam     426\n",
       "phg     172\n",
       "rod     171\n",
       "pri     143\n",
       "arc      99\n",
       "plm      13\n",
       "Name: Kingdom, dtype: int64"
      ]
     },
     "execution_count": 302,
     "metadata": {},
     "output_type": "execute_result"
    }
   ],
   "source": [
    "df_train['Kingdom'].value_counts()"
   ]
  },
  {
   "cell_type": "code",
   "execution_count": 303,
   "id": "e906410d",
   "metadata": {},
   "outputs": [],
   "source": [
    "df_train.drop('id', inplace = True, axis = 1)"
   ]
  },
  {
   "cell_type": "code",
   "execution_count": 304,
   "id": "f7a208d3",
   "metadata": {},
   "outputs": [],
   "source": [
    "#Function to check null values\n",
    "def assess_NA(data):\n",
    "    null_sum = data.isnull().sum()# instantiate columns for missing data\n",
    "    total = null_sum.sort_values(ascending=False)\n",
    "    percent = ( ((null_sum / len(data.index))*100).round(2) ).sort_values(ascending=False)\n",
    "    \n",
    "    df_NA = pd.concat([total, percent], axis=1, keys=['Number of NA', 'Percent NA'])\n",
    "    \n",
    "    df_NA = df_NA[ (df_NA.T != 0).any() ]\n",
    "    \n",
    "    return df_NA"
   ]
  },
  {
   "cell_type": "code",
   "execution_count": 305,
   "id": "f0cff1a3",
   "metadata": {},
   "outputs": [
    {
     "data": {
      "text/html": [
       "<div>\n",
       "<style scoped>\n",
       "    .dataframe tbody tr th:only-of-type {\n",
       "        vertical-align: middle;\n",
       "    }\n",
       "\n",
       "    .dataframe tbody tr th {\n",
       "        vertical-align: top;\n",
       "    }\n",
       "\n",
       "    .dataframe thead th {\n",
       "        text-align: right;\n",
       "    }\n",
       "</style>\n",
       "<table border=\"1\" class=\"dataframe\">\n",
       "  <thead>\n",
       "    <tr style=\"text-align: right;\">\n",
       "      <th></th>\n",
       "      <th>Number of NA</th>\n",
       "      <th>Percent NA</th>\n",
       "    </tr>\n",
       "  </thead>\n",
       "  <tbody>\n",
       "    <tr>\n",
       "      <th>DNAtype</th>\n",
       "      <td>1</td>\n",
       "      <td>0.01</td>\n",
       "    </tr>\n",
       "  </tbody>\n",
       "</table>\n",
       "</div>"
      ],
      "text/plain": [
       "         Number of NA  Percent NA\n",
       "DNAtype             1        0.01"
      ]
     },
     "execution_count": 305,
     "metadata": {},
     "output_type": "execute_result"
    }
   ],
   "source": [
    "assess_NA(df_train)"
   ]
  },
  {
   "cell_type": "code",
   "execution_count": 306,
   "id": "f3b5d5d4",
   "metadata": {},
   "outputs": [],
   "source": [
    "encode_label = {\n",
    "    ' bacteria' : 0,\n",
    "    'virus' :10,\n",
    "    'plant' : 5,\n",
    "    'vertebrate' : 9,\n",
    "    'invertebrate' : 3,\n",
    "    'mammal' : 4,\n",
    "    'bacteriophage' : 2,\n",
    "    'rodent' : 8,\n",
    "    'primate' : 7,\n",
    "    'archaea' : 1,\n",
    "    'plasmid' : 6\n",
    "}"
   ]
  },
  {
   "cell_type": "code",
   "execution_count": 307,
   "id": "1da95f38",
   "metadata": {},
   "outputs": [],
   "source": [
    "kindom_names = {'arc': 'archaea', \n",
    "          'bct': ' bacteria', \n",
    "          'phg' : 'bacteriophage', \n",
    "          'plm': 'plasmid',\n",
    "          'pln': 'plant',\n",
    "          'inv': 'invertebrate',\n",
    "          'vrt': 'vertebrate',\n",
    "          'mam': 'mammal',\n",
    "          'rod': 'rodent',\n",
    "          'pri': 'primate', \n",
    "          'vrl': 'virus'}"
   ]
  },
  {
   "cell_type": "code",
   "execution_count": 308,
   "id": "348d7b6b",
   "metadata": {},
   "outputs": [],
   "source": [
    "encode_label = {\n",
    "    ' bacteria' : 0,\n",
    "    'virus' :10,\n",
    "    'plant' : 5,\n",
    "    'vertebrate' : 9,\n",
    "    'invertebrate' : 3,\n",
    "    'mammal' : 4,\n",
    "    'bacteriophage' : 2,\n",
    "    'rodent' : 8,\n",
    "    'primate' : 7,\n",
    "    'archaea' : 1,\n",
    "    'plasmid' : 6\n",
    "}"
   ]
  },
  {
   "cell_type": "code",
   "execution_count": 309,
   "id": "24b150c9",
   "metadata": {},
   "outputs": [],
   "source": [
    "df_train['Kingdom'] = df_train['Kingdom'].map(kindom_names)\n",
    "df_train[\"Kingdom_encoded\"] = df_train[\"Kingdom\"].map(encode_label)"
   ]
  },
  {
   "cell_type": "code",
   "execution_count": 310,
   "id": "eedbae96",
   "metadata": {},
   "outputs": [],
   "source": [
    "cols_rm = ['']"
   ]
  },
  {
   "cell_type": "code",
   "execution_count": 311,
   "id": "b7639cfe",
   "metadata": {},
   "outputs": [
    {
     "data": {
      "text/plain": [
       "0     2298\n",
       "10    2237\n",
       "5     1959\n",
       "9     1636\n",
       "3     1064\n",
       "4      426\n",
       "2      172\n",
       "8      171\n",
       "7      143\n",
       "1       99\n",
       "6       13\n",
       "Name: Kingdom_encoded, dtype: int64"
      ]
     },
     "execution_count": 311,
     "metadata": {},
     "output_type": "execute_result"
    }
   ],
   "source": [
    "df_train['Kingdom_encoded'].value_counts()"
   ]
  },
  {
   "cell_type": "code",
   "execution_count": 312,
   "id": "b56def78",
   "metadata": {},
   "outputs": [],
   "source": [
    "# codons = df_train.loc[:,df_train.columns[6:]]\n",
    "# codons = codons[codons.columns[1:]]"
   ]
  },
  {
   "cell_type": "code",
   "execution_count": 313,
   "id": "90dc841d",
   "metadata": {},
   "outputs": [
    {
     "data": {
      "text/plain": [
       "DNAtype           11\n",
       "SpeciesID       9802\n",
       "Ncodons         5976\n",
       "SpeciesName    10210\n",
       "dtype: int64"
      ]
     },
     "execution_count": 313,
     "metadata": {},
     "output_type": "execute_result"
    }
   ],
   "source": [
    "df_train[df_train.columns[1:5]].nunique()"
   ]
  },
  {
   "cell_type": "code",
   "execution_count": 314,
   "id": "a7fd3e9e",
   "metadata": {},
   "outputs": [
    {
     "data": {
      "text/plain": [
       "Text(0.5, 1.0, 'DNAtype')"
      ]
     },
     "execution_count": 314,
     "metadata": {},
     "output_type": "execute_result"
    },
    {
     "data": {
      "image/png": "[encoded data removed]",
      "text/plain": [
       "<Figure size 432x288 with 1 Axes>"
      ]
     },
     "metadata": {},
     "output_type": "display_data"
    }
   ],
   "source": [
    "venn2([set(df_train['DNAtype'].values), set(df_test['DNAtype'].values)], set_labels = ('train','test'))\n",
    "plt.title('DNAtype')"
   ]
  },
  {
   "cell_type": "code",
   "execution_count": 253,
   "id": "ea0a8921",
   "metadata": {},
   "outputs": [
    {
     "data": {
      "text/plain": [
       "0.0     7268\n",
       "1.0     2235\n",
       "2.0      631\n",
       "4.0       36\n",
       "5.0       17\n",
       "3.0       12\n",
       "6.0       10\n",
       "12.0       4\n",
       "11.0       2\n",
       "7.0        1\n",
       "9.0        1\n",
       "Name: DNAtype, dtype: int64"
      ]
     },
     "execution_count": 253,
     "metadata": {},
     "output_type": "execute_result"
    }
   ],
   "source": [
    "df_train['DNAtype'].value_counts()"
   ]
  },
  {
   "cell_type": "code",
   "execution_count": 254,
   "id": "bc5cac32",
   "metadata": {},
   "outputs": [
    {
     "data": {
      "text/plain": [
       "0     1954\n",
       "1      633\n",
       "2      194\n",
       "4       17\n",
       "6        4\n",
       "5        3\n",
       "3        2\n",
       "9        1\n",
       "12       1\n",
       "7        1\n",
       "Name: DNAtype, dtype: int64"
      ]
     },
     "execution_count": 254,
     "metadata": {},
     "output_type": "execute_result"
    }
   ],
   "source": [
    "df_test['DNAtype'].value_counts()"
   ]
  },
  {
   "cell_type": "code",
   "execution_count": 255,
   "id": "2406a99d",
   "metadata": {},
   "outputs": [],
   "source": [
    "df_train = df_train[df_train['DNAtype'] != 11.0]"
   ]
  },
  {
   "cell_type": "code",
   "execution_count": 256,
   "id": "8739608f",
   "metadata": {},
   "outputs": [],
   "source": [
    "df_train.reset_index(inplace=True,drop=True)\n",
    "df_train['DNAtype'].fillna(0,inplace=True)"
   ]
  },
  {
   "cell_type": "code",
   "execution_count": 257,
   "id": "2b4ff4c3",
   "metadata": {},
   "outputs": [],
   "source": [
    "df_train['DNAtype'] = df_train['DNAtype'].astype(int)"
   ]
  },
  {
   "cell_type": "code",
   "execution_count": 258,
   "id": "ede45843",
   "metadata": {},
   "outputs": [
    {
     "data": {
      "text/plain": [
       "((10216, 70), (2810, 69))"
      ]
     },
     "execution_count": 258,
     "metadata": {},
     "output_type": "execute_result"
    }
   ],
   "source": [
    "df_train.shape,df_test.shape"
   ]
  },
  {
   "cell_type": "code",
   "execution_count": 259,
   "id": "87b77def",
   "metadata": {},
   "outputs": [],
   "source": [
    "# for i in df_train.loc[:,df_train.columns[8:50]].columns:\n",
    "#     print(i)\n",
    "#     temp = df_train.groupby('DNAtype').agg({i:['sum','mean']})\n",
    "#     temp.columns = ['_'.join(x) for x in temp.columns]\n",
    "#     df_train = pd.merge(df_train,temp,on=['DNAtype'])\n",
    "#     df_test = pd.merge(df_test,temp,on=['DNAtype'])"
   ]
  },
  {
   "cell_type": "code",
   "execution_count": 260,
   "id": "1fd56b7a",
   "metadata": {},
   "outputs": [
    {
     "data": {
      "text/html": [
       "<div>\n",
       "<style scoped>\n",
       "    .dataframe tbody tr th:only-of-type {\n",
       "        vertical-align: middle;\n",
       "    }\n",
       "\n",
       "    .dataframe tbody tr th {\n",
       "        vertical-align: top;\n",
       "    }\n",
       "\n",
       "    .dataframe thead th {\n",
       "        text-align: right;\n",
       "    }\n",
       "</style>\n",
       "<table border=\"1\" class=\"dataframe\">\n",
       "  <thead>\n",
       "    <tr style=\"text-align: right;\">\n",
       "      <th></th>\n",
       "      <th>Kingdom</th>\n",
       "      <th>DNAtype</th>\n",
       "      <th>SpeciesID</th>\n",
       "      <th>Ncodons</th>\n",
       "      <th>SpeciesName</th>\n",
       "      <th>UUU</th>\n",
       "      <th>UUC</th>\n",
       "      <th>UUA</th>\n",
       "      <th>UUG</th>\n",
       "      <th>CUU</th>\n",
       "      <th>...</th>\n",
       "      <th>AGA</th>\n",
       "      <th>AGG</th>\n",
       "      <th>GAU</th>\n",
       "      <th>GAC</th>\n",
       "      <th>GAA</th>\n",
       "      <th>GAG</th>\n",
       "      <th>UAA</th>\n",
       "      <th>UAG</th>\n",
       "      <th>UGA</th>\n",
       "      <th>Kingdom_encoded</th>\n",
       "    </tr>\n",
       "  </thead>\n",
       "  <tbody>\n",
       "    <tr>\n",
       "      <th>0</th>\n",
       "      <td>plant</td>\n",
       "      <td>0</td>\n",
       "      <td>3886</td>\n",
       "      <td>4181</td>\n",
       "      <td>Phaseolus coccineus</td>\n",
       "      <td>0.02392</td>\n",
       "      <td>0.02966</td>\n",
       "      <td>0.00765</td>\n",
       "      <td>0.01794</td>\n",
       "      <td>0.01937</td>\n",
       "      <td>...</td>\n",
       "      <td>0.00789</td>\n",
       "      <td>0.01315</td>\n",
       "      <td>0.02966</td>\n",
       "      <td>0.02631</td>\n",
       "      <td>0.02822</td>\n",
       "      <td>0.02727</td>\n",
       "      <td>0.00096</td>\n",
       "      <td>0.00191</td>\n",
       "      <td>0.00144</td>\n",
       "      <td>5</td>\n",
       "    </tr>\n",
       "    <tr>\n",
       "      <th>1</th>\n",
       "      <td>archaea</td>\n",
       "      <td>0</td>\n",
       "      <td>146920</td>\n",
       "      <td>1716</td>\n",
       "      <td>Acidianus tengchongenses</td>\n",
       "      <td>0.01748</td>\n",
       "      <td>0.01049</td>\n",
       "      <td>0.05361</td>\n",
       "      <td>0.01282</td>\n",
       "      <td>0.01107</td>\n",
       "      <td>...</td>\n",
       "      <td>0.03322</td>\n",
       "      <td>0.00524</td>\n",
       "      <td>0.04429</td>\n",
       "      <td>0.01340</td>\n",
       "      <td>0.05769</td>\n",
       "      <td>0.02214</td>\n",
       "      <td>0.00233</td>\n",
       "      <td>0.00000</td>\n",
       "      <td>0.00000</td>\n",
       "      <td>1</td>\n",
       "    </tr>\n",
       "    <tr>\n",
       "      <th>2</th>\n",
       "      <td>virus</td>\n",
       "      <td>0</td>\n",
       "      <td>220938</td>\n",
       "      <td>1103</td>\n",
       "      <td>Tomato yellow leaf curl virus-[Almeria]</td>\n",
       "      <td>0.02357</td>\n",
       "      <td>0.02267</td>\n",
       "      <td>0.01632</td>\n",
       "      <td>0.01088</td>\n",
       "      <td>0.01088</td>\n",
       "      <td>...</td>\n",
       "      <td>0.01995</td>\n",
       "      <td>0.01632</td>\n",
       "      <td>0.03083</td>\n",
       "      <td>0.01813</td>\n",
       "      <td>0.02992</td>\n",
       "      <td>0.01904</td>\n",
       "      <td>0.00363</td>\n",
       "      <td>0.00091</td>\n",
       "      <td>0.00091</td>\n",
       "      <td>10</td>\n",
       "    </tr>\n",
       "    <tr>\n",
       "      <th>3</th>\n",
       "      <td>plant</td>\n",
       "      <td>1</td>\n",
       "      <td>35128</td>\n",
       "      <td>9379</td>\n",
       "      <td>mitochondrion Thalassiosira pseudonana</td>\n",
       "      <td>0.0708</td>\n",
       "      <td>0.01397</td>\n",
       "      <td>0.07389</td>\n",
       "      <td>0.01685</td>\n",
       "      <td>0.01514</td>\n",
       "      <td>...</td>\n",
       "      <td>0.01386</td>\n",
       "      <td>0.00213</td>\n",
       "      <td>0.02143</td>\n",
       "      <td>0.00618</td>\n",
       "      <td>0.02506</td>\n",
       "      <td>0.00533</td>\n",
       "      <td>0.00341</td>\n",
       "      <td>0.00032</td>\n",
       "      <td>0.00661</td>\n",
       "      <td>5</td>\n",
       "    </tr>\n",
       "    <tr>\n",
       "      <th>4</th>\n",
       "      <td>rodent</td>\n",
       "      <td>1</td>\n",
       "      <td>9995</td>\n",
       "      <td>1520</td>\n",
       "      <td>mitochondrion Marmota monax</td>\n",
       "      <td>0.04671</td>\n",
       "      <td>0.02632</td>\n",
       "      <td>0.03421</td>\n",
       "      <td>0.00000</td>\n",
       "      <td>0.03882</td>\n",
       "      <td>...</td>\n",
       "      <td>0.00263</td>\n",
       "      <td>0.00000</td>\n",
       "      <td>0.01053</td>\n",
       "      <td>0.01842</td>\n",
       "      <td>0.01382</td>\n",
       "      <td>0.00197</td>\n",
       "      <td>0.00000</td>\n",
       "      <td>0.00000</td>\n",
       "      <td>0.02895</td>\n",
       "      <td>8</td>\n",
       "    </tr>\n",
       "    <tr>\n",
       "      <th>...</th>\n",
       "      <td>...</td>\n",
       "      <td>...</td>\n",
       "      <td>...</td>\n",
       "      <td>...</td>\n",
       "      <td>...</td>\n",
       "      <td>...</td>\n",
       "      <td>...</td>\n",
       "      <td>...</td>\n",
       "      <td>...</td>\n",
       "      <td>...</td>\n",
       "      <td>...</td>\n",
       "      <td>...</td>\n",
       "      <td>...</td>\n",
       "      <td>...</td>\n",
       "      <td>...</td>\n",
       "      <td>...</td>\n",
       "      <td>...</td>\n",
       "      <td>...</td>\n",
       "      <td>...</td>\n",
       "      <td>...</td>\n",
       "      <td>...</td>\n",
       "    </tr>\n",
       "    <tr>\n",
       "      <th>10211</th>\n",
       "      <td>virus</td>\n",
       "      <td>0</td>\n",
       "      <td>390237</td>\n",
       "      <td>3057</td>\n",
       "      <td>White lupin mosaic virus</td>\n",
       "      <td>0.02781</td>\n",
       "      <td>0.01897</td>\n",
       "      <td>0.01505</td>\n",
       "      <td>0.02715</td>\n",
       "      <td>0.01636</td>\n",
       "      <td>...</td>\n",
       "      <td>0.02126</td>\n",
       "      <td>0.01505</td>\n",
       "      <td>0.03369</td>\n",
       "      <td>0.02126</td>\n",
       "      <td>0.03467</td>\n",
       "      <td>0.03042</td>\n",
       "      <td>0.00000</td>\n",
       "      <td>0.00033</td>\n",
       "      <td>0.00000</td>\n",
       "      <td>10</td>\n",
       "    </tr>\n",
       "    <tr>\n",
       "      <th>10212</th>\n",
       "      <td>virus</td>\n",
       "      <td>0</td>\n",
       "      <td>284687</td>\n",
       "      <td>3646</td>\n",
       "      <td>Amasya cherry disease associated chrysovirus</td>\n",
       "      <td>0.00905</td>\n",
       "      <td>0.01865</td>\n",
       "      <td>0.00521</td>\n",
       "      <td>0.02030</td>\n",
       "      <td>0.00933</td>\n",
       "      <td>...</td>\n",
       "      <td>0.01920</td>\n",
       "      <td>0.02935</td>\n",
       "      <td>0.03428</td>\n",
       "      <td>0.03209</td>\n",
       "      <td>0.03291</td>\n",
       "      <td>0.03922</td>\n",
       "      <td>0.00110</td>\n",
       "      <td>0.00000</td>\n",
       "      <td>0.00000</td>\n",
       "      <td>10</td>\n",
       "    </tr>\n",
       "    <tr>\n",
       "      <th>10213</th>\n",
       "      <td>plant</td>\n",
       "      <td>0</td>\n",
       "      <td>3721</td>\n",
       "      <td>1289</td>\n",
       "      <td>Crambe hispanica subsp. abyssinica</td>\n",
       "      <td>0.0256</td>\n",
       "      <td>0.0225</td>\n",
       "      <td>0.01164</td>\n",
       "      <td>0.01939</td>\n",
       "      <td>0.02870</td>\n",
       "      <td>...</td>\n",
       "      <td>0.01707</td>\n",
       "      <td>0.00155</td>\n",
       "      <td>0.02793</td>\n",
       "      <td>0.01707</td>\n",
       "      <td>0.01552</td>\n",
       "      <td>0.02560</td>\n",
       "      <td>0.00233</td>\n",
       "      <td>0.00000</td>\n",
       "      <td>0.00000</td>\n",
       "      <td>5</td>\n",
       "    </tr>\n",
       "    <tr>\n",
       "      <th>10214</th>\n",
       "      <td>plant</td>\n",
       "      <td>0</td>\n",
       "      <td>36902</td>\n",
       "      <td>11065</td>\n",
       "      <td>Medicago sativa subsp. x varia</td>\n",
       "      <td>0.02178</td>\n",
       "      <td>0.01663</td>\n",
       "      <td>0.01175</td>\n",
       "      <td>0.02332</td>\n",
       "      <td>0.02585</td>\n",
       "      <td>...</td>\n",
       "      <td>0.01654</td>\n",
       "      <td>0.01347</td>\n",
       "      <td>0.04058</td>\n",
       "      <td>0.01943</td>\n",
       "      <td>0.03145</td>\n",
       "      <td>0.02919</td>\n",
       "      <td>0.00117</td>\n",
       "      <td>0.00081</td>\n",
       "      <td>0.00081</td>\n",
       "      <td>5</td>\n",
       "    </tr>\n",
       "    <tr>\n",
       "      <th>10215</th>\n",
       "      <td>virus</td>\n",
       "      <td>0</td>\n",
       "      <td>39007</td>\n",
       "      <td>27774</td>\n",
       "      <td>Rinderpest virus</td>\n",
       "      <td>0.01231</td>\n",
       "      <td>0.01653</td>\n",
       "      <td>0.01321</td>\n",
       "      <td>0.01599</td>\n",
       "      <td>0.01530</td>\n",
       "      <td>...</td>\n",
       "      <td>0.01843</td>\n",
       "      <td>0.02005</td>\n",
       "      <td>0.03194</td>\n",
       "      <td>0.02855</td>\n",
       "      <td>0.02391</td>\n",
       "      <td>0.03136</td>\n",
       "      <td>0.00047</td>\n",
       "      <td>0.00090</td>\n",
       "      <td>0.00029</td>\n",
       "      <td>10</td>\n",
       "    </tr>\n",
       "  </tbody>\n",
       "</table>\n",
       "<p>10216 rows × 70 columns</p>\n",
       "</div>"
      ],
      "text/plain": [
       "       Kingdom  DNAtype  SpeciesID  Ncodons  \\\n",
       "0        plant        0       3886     4181   \n",
       "1      archaea        0     146920     1716   \n",
       "2        virus        0     220938     1103   \n",
       "3        plant        1      35128     9379   \n",
       "4       rodent        1       9995     1520   \n",
       "...        ...      ...        ...      ...   \n",
       "10211    virus        0     390237     3057   \n",
       "10212    virus        0     284687     3646   \n",
       "10213    plant        0       3721     1289   \n",
       "10214    plant        0      36902    11065   \n",
       "10215    virus        0      39007    27774   \n",
       "\n",
       "                                        SpeciesName      UUU      UUC  \\\n",
       "0                               Phaseolus coccineus  0.02392  0.02966   \n",
       "1                          Acidianus tengchongenses  0.01748  0.01049   \n",
       "2           Tomato yellow leaf curl virus-[Almeria]  0.02357  0.02267   \n",
       "3            mitochondrion Thalassiosira pseudonana   0.0708  0.01397   \n",
       "4                       mitochondrion Marmota monax  0.04671  0.02632   \n",
       "...                                             ...      ...      ...   \n",
       "10211                      White lupin mosaic virus  0.02781  0.01897   \n",
       "10212  Amasya cherry disease associated chrysovirus  0.00905  0.01865   \n",
       "10213            Crambe hispanica subsp. abyssinica   0.0256   0.0225   \n",
       "10214                Medicago sativa subsp. x varia  0.02178  0.01663   \n",
       "10215                              Rinderpest virus  0.01231  0.01653   \n",
       "\n",
       "           UUA      UUG      CUU  ...      AGA      AGG      GAU      GAC  \\\n",
       "0      0.00765  0.01794  0.01937  ...  0.00789  0.01315  0.02966  0.02631   \n",
       "1      0.05361  0.01282  0.01107  ...  0.03322  0.00524  0.04429  0.01340   \n",
       "2      0.01632  0.01088  0.01088  ...  0.01995  0.01632  0.03083  0.01813   \n",
       "3      0.07389  0.01685  0.01514  ...  0.01386  0.00213  0.02143  0.00618   \n",
       "4      0.03421  0.00000  0.03882  ...  0.00263  0.00000  0.01053  0.01842   \n",
       "...        ...      ...      ...  ...      ...      ...      ...      ...   \n",
       "10211  0.01505  0.02715  0.01636  ...  0.02126  0.01505  0.03369  0.02126   \n",
       "10212  0.00521  0.02030  0.00933  ...  0.01920  0.02935  0.03428  0.03209   \n",
       "10213  0.01164  0.01939  0.02870  ...  0.01707  0.00155  0.02793  0.01707   \n",
       "10214  0.01175  0.02332  0.02585  ...  0.01654  0.01347  0.04058  0.01943   \n",
       "10215  0.01321  0.01599  0.01530  ...  0.01843  0.02005  0.03194  0.02855   \n",
       "\n",
       "           GAA      GAG      UAA      UAG      UGA  Kingdom_encoded  \n",
       "0      0.02822  0.02727  0.00096  0.00191  0.00144                5  \n",
       "1      0.05769  0.02214  0.00233  0.00000  0.00000                1  \n",
       "2      0.02992  0.01904  0.00363  0.00091  0.00091               10  \n",
       "3      0.02506  0.00533  0.00341  0.00032  0.00661                5  \n",
       "4      0.01382  0.00197  0.00000  0.00000  0.02895                8  \n",
       "...        ...      ...      ...      ...      ...              ...  \n",
       "10211  0.03467  0.03042  0.00000  0.00033  0.00000               10  \n",
       "10212  0.03291  0.03922  0.00110  0.00000  0.00000               10  \n",
       "10213  0.01552  0.02560  0.00233  0.00000  0.00000                5  \n",
       "10214  0.03145  0.02919  0.00117  0.00081  0.00081                5  \n",
       "10215  0.02391  0.03136  0.00047  0.00090  0.00029               10  \n",
       "\n",
       "[10216 rows x 70 columns]"
      ]
     },
     "execution_count": 260,
     "metadata": {},
     "output_type": "execute_result"
    }
   ],
   "source": [
    "df_train"
   ]
  },
  {
   "cell_type": "code",
   "execution_count": 261,
   "id": "d58d45de",
   "metadata": {},
   "outputs": [
    {
     "data": {
      "text/html": [
       "<div>\n",
       "<style scoped>\n",
       "    .dataframe tbody tr th:only-of-type {\n",
       "        vertical-align: middle;\n",
       "    }\n",
       "\n",
       "    .dataframe tbody tr th {\n",
       "        vertical-align: top;\n",
       "    }\n",
       "\n",
       "    .dataframe thead th {\n",
       "        text-align: right;\n",
       "    }\n",
       "</style>\n",
       "<table border=\"1\" class=\"dataframe\">\n",
       "  <thead>\n",
       "    <tr style=\"text-align: right;\">\n",
       "      <th></th>\n",
       "      <th>id</th>\n",
       "      <th>DNAtype</th>\n",
       "      <th>SpeciesID</th>\n",
       "      <th>Ncodons</th>\n",
       "      <th>SpeciesName</th>\n",
       "      <th>UUU</th>\n",
       "      <th>UUC</th>\n",
       "      <th>UUA</th>\n",
       "      <th>UUG</th>\n",
       "      <th>CUU</th>\n",
       "      <th>...</th>\n",
       "      <th>CGG</th>\n",
       "      <th>AGA</th>\n",
       "      <th>AGG</th>\n",
       "      <th>GAU</th>\n",
       "      <th>GAC</th>\n",
       "      <th>GAA</th>\n",
       "      <th>GAG</th>\n",
       "      <th>UAA</th>\n",
       "      <th>UAG</th>\n",
       "      <th>UGA</th>\n",
       "    </tr>\n",
       "  </thead>\n",
       "  <tbody>\n",
       "    <tr>\n",
       "      <th>0</th>\n",
       "      <td>10129</td>\n",
       "      <td>0</td>\n",
       "      <td>380134</td>\n",
       "      <td>3307</td>\n",
       "      <td>Fusarium oxysporum f. sp. colocasiae</td>\n",
       "      <td>0.00907</td>\n",
       "      <td>0.03145</td>\n",
       "      <td>0.00121</td>\n",
       "      <td>0.01270</td>\n",
       "      <td>0.01391</td>\n",
       "      <td>...</td>\n",
       "      <td>0.00000</td>\n",
       "      <td>0.00423</td>\n",
       "      <td>0.00121</td>\n",
       "      <td>0.02873</td>\n",
       "      <td>0.03538</td>\n",
       "      <td>0.00544</td>\n",
       "      <td>0.01875</td>\n",
       "      <td>0.00121</td>\n",
       "      <td>0.00121</td>\n",
       "      <td>0.00000</td>\n",
       "    </tr>\n",
       "    <tr>\n",
       "      <th>1</th>\n",
       "      <td>10130</td>\n",
       "      <td>0</td>\n",
       "      <td>235457</td>\n",
       "      <td>1357</td>\n",
       "      <td>Adeno-associated virus 11</td>\n",
       "      <td>0.01695</td>\n",
       "      <td>0.02800</td>\n",
       "      <td>0.00368</td>\n",
       "      <td>0.00590</td>\n",
       "      <td>0.00368</td>\n",
       "      <td>...</td>\n",
       "      <td>0.00663</td>\n",
       "      <td>0.01400</td>\n",
       "      <td>0.00442</td>\n",
       "      <td>0.01179</td>\n",
       "      <td>0.04348</td>\n",
       "      <td>0.01548</td>\n",
       "      <td>0.04274</td>\n",
       "      <td>0.00147</td>\n",
       "      <td>0.00000</td>\n",
       "      <td>0.00000</td>\n",
       "    </tr>\n",
       "    <tr>\n",
       "      <th>2</th>\n",
       "      <td>10131</td>\n",
       "      <td>2</td>\n",
       "      <td>34301</td>\n",
       "      <td>26766</td>\n",
       "      <td>chloroplast Nymphaea alba</td>\n",
       "      <td>0.03172</td>\n",
       "      <td>0.02272</td>\n",
       "      <td>0.02798</td>\n",
       "      <td>0.02167</td>\n",
       "      <td>0.02062</td>\n",
       "      <td>...</td>\n",
       "      <td>0.00497</td>\n",
       "      <td>0.01939</td>\n",
       "      <td>0.00770</td>\n",
       "      <td>0.03262</td>\n",
       "      <td>0.00897</td>\n",
       "      <td>0.03852</td>\n",
       "      <td>0.01487</td>\n",
       "      <td>0.00164</td>\n",
       "      <td>0.00090</td>\n",
       "      <td>0.00097</td>\n",
       "    </tr>\n",
       "    <tr>\n",
       "      <th>3</th>\n",
       "      <td>10132</td>\n",
       "      <td>0</td>\n",
       "      <td>5530</td>\n",
       "      <td>30838</td>\n",
       "      <td>Metarhizium anisopliae</td>\n",
       "      <td>0.01235</td>\n",
       "      <td>0.02299</td>\n",
       "      <td>0.00311</td>\n",
       "      <td>0.01362</td>\n",
       "      <td>0.01443</td>\n",
       "      <td>...</td>\n",
       "      <td>0.00519</td>\n",
       "      <td>0.00538</td>\n",
       "      <td>0.00451</td>\n",
       "      <td>0.02396</td>\n",
       "      <td>0.03502</td>\n",
       "      <td>0.01647</td>\n",
       "      <td>0.03424</td>\n",
       "      <td>0.00104</td>\n",
       "      <td>0.00062</td>\n",
       "      <td>0.00032</td>\n",
       "    </tr>\n",
       "    <tr>\n",
       "      <th>4</th>\n",
       "      <td>10133</td>\n",
       "      <td>1</td>\n",
       "      <td>398797</td>\n",
       "      <td>2402</td>\n",
       "      <td>mitochondrion Rhagophthalmus lufengensis</td>\n",
       "      <td>0.09159</td>\n",
       "      <td>0.01166</td>\n",
       "      <td>0.10991</td>\n",
       "      <td>0.00833</td>\n",
       "      <td>0.01499</td>\n",
       "      <td>...</td>\n",
       "      <td>0.00083</td>\n",
       "      <td>0.02748</td>\n",
       "      <td>0.00000</td>\n",
       "      <td>0.01249</td>\n",
       "      <td>0.00083</td>\n",
       "      <td>0.01873</td>\n",
       "      <td>0.00250</td>\n",
       "      <td>0.00291</td>\n",
       "      <td>0.00125</td>\n",
       "      <td>0.02581</td>\n",
       "    </tr>\n",
       "    <tr>\n",
       "      <th>...</th>\n",
       "      <td>...</td>\n",
       "      <td>...</td>\n",
       "      <td>...</td>\n",
       "      <td>...</td>\n",
       "      <td>...</td>\n",
       "      <td>...</td>\n",
       "      <td>...</td>\n",
       "      <td>...</td>\n",
       "      <td>...</td>\n",
       "      <td>...</td>\n",
       "      <td>...</td>\n",
       "      <td>...</td>\n",
       "      <td>...</td>\n",
       "      <td>...</td>\n",
       "      <td>...</td>\n",
       "      <td>...</td>\n",
       "      <td>...</td>\n",
       "      <td>...</td>\n",
       "      <td>...</td>\n",
       "      <td>...</td>\n",
       "      <td>...</td>\n",
       "    </tr>\n",
       "    <tr>\n",
       "      <th>2805</th>\n",
       "      <td>12934</td>\n",
       "      <td>0</td>\n",
       "      <td>35795</td>\n",
       "      <td>7802</td>\n",
       "      <td>Ehrlichia muris</td>\n",
       "      <td>0.05922</td>\n",
       "      <td>0.01397</td>\n",
       "      <td>0.03691</td>\n",
       "      <td>0.00974</td>\n",
       "      <td>0.01256</td>\n",
       "      <td>...</td>\n",
       "      <td>0.00026</td>\n",
       "      <td>0.01154</td>\n",
       "      <td>0.00500</td>\n",
       "      <td>0.03922</td>\n",
       "      <td>0.01025</td>\n",
       "      <td>0.03473</td>\n",
       "      <td>0.00948</td>\n",
       "      <td>0.00282</td>\n",
       "      <td>0.00090</td>\n",
       "      <td>0.00000</td>\n",
       "    </tr>\n",
       "    <tr>\n",
       "      <th>2806</th>\n",
       "      <td>12935</td>\n",
       "      <td>0</td>\n",
       "      <td>8673</td>\n",
       "      <td>9087</td>\n",
       "      <td>Pseudonaja textilis</td>\n",
       "      <td>0.01937</td>\n",
       "      <td>0.01717</td>\n",
       "      <td>0.00880</td>\n",
       "      <td>0.01519</td>\n",
       "      <td>0.01398</td>\n",
       "      <td>...</td>\n",
       "      <td>0.00220</td>\n",
       "      <td>0.01552</td>\n",
       "      <td>0.00902</td>\n",
       "      <td>0.03257</td>\n",
       "      <td>0.02487</td>\n",
       "      <td>0.03720</td>\n",
       "      <td>0.01805</td>\n",
       "      <td>0.00088</td>\n",
       "      <td>0.00143</td>\n",
       "      <td>0.00165</td>\n",
       "    </tr>\n",
       "    <tr>\n",
       "      <th>2807</th>\n",
       "      <td>12936</td>\n",
       "      <td>0</td>\n",
       "      <td>297249</td>\n",
       "      <td>1105</td>\n",
       "      <td>Tomato yellow leaf curl Guangdong virus</td>\n",
       "      <td>0.02443</td>\n",
       "      <td>0.01991</td>\n",
       "      <td>0.02262</td>\n",
       "      <td>0.01267</td>\n",
       "      <td>0.00905</td>\n",
       "      <td>...</td>\n",
       "      <td>0.00543</td>\n",
       "      <td>0.01900</td>\n",
       "      <td>0.01448</td>\n",
       "      <td>0.03710</td>\n",
       "      <td>0.00995</td>\n",
       "      <td>0.02805</td>\n",
       "      <td>0.02081</td>\n",
       "      <td>0.00362</td>\n",
       "      <td>0.00090</td>\n",
       "      <td>0.00090</td>\n",
       "    </tr>\n",
       "    <tr>\n",
       "      <th>2808</th>\n",
       "      <td>12937</td>\n",
       "      <td>0</td>\n",
       "      <td>73123</td>\n",
       "      <td>1654</td>\n",
       "      <td>Diaporthe ambigua</td>\n",
       "      <td>0.01270</td>\n",
       "      <td>0.03083</td>\n",
       "      <td>0.00423</td>\n",
       "      <td>0.02116</td>\n",
       "      <td>0.01511</td>\n",
       "      <td>...</td>\n",
       "      <td>0.00726</td>\n",
       "      <td>0.01088</td>\n",
       "      <td>0.01391</td>\n",
       "      <td>0.02781</td>\n",
       "      <td>0.03869</td>\n",
       "      <td>0.01935</td>\n",
       "      <td>0.03688</td>\n",
       "      <td>0.00000</td>\n",
       "      <td>0.00000</td>\n",
       "      <td>0.00121</td>\n",
       "    </tr>\n",
       "    <tr>\n",
       "      <th>2809</th>\n",
       "      <td>12938</td>\n",
       "      <td>0</td>\n",
       "      <td>779</td>\n",
       "      <td>42743</td>\n",
       "      <td>Ehrlichia ruminantium</td>\n",
       "      <td>0.04277</td>\n",
       "      <td>0.01013</td>\n",
       "      <td>0.04263</td>\n",
       "      <td>0.00716</td>\n",
       "      <td>0.01181</td>\n",
       "      <td>...</td>\n",
       "      <td>0.00147</td>\n",
       "      <td>0.01525</td>\n",
       "      <td>0.00405</td>\n",
       "      <td>0.03973</td>\n",
       "      <td>0.00838</td>\n",
       "      <td>0.03956</td>\n",
       "      <td>0.00898</td>\n",
       "      <td>0.00234</td>\n",
       "      <td>0.00066</td>\n",
       "      <td>0.00066</td>\n",
       "    </tr>\n",
       "  </tbody>\n",
       "</table>\n",
       "<p>2810 rows × 69 columns</p>\n",
       "</div>"
      ],
      "text/plain": [
       "         id  DNAtype  SpeciesID  Ncodons  \\\n",
       "0     10129        0     380134     3307   \n",
       "1     10130        0     235457     1357   \n",
       "2     10131        2      34301    26766   \n",
       "3     10132        0       5530    30838   \n",
       "4     10133        1     398797     2402   \n",
       "...     ...      ...        ...      ...   \n",
       "2805  12934        0      35795     7802   \n",
       "2806  12935        0       8673     9087   \n",
       "2807  12936        0     297249     1105   \n",
       "2808  12937        0      73123     1654   \n",
       "2809  12938        0        779    42743   \n",
       "\n",
       "                                   SpeciesName      UUU      UUC      UUA  \\\n",
       "0         Fusarium oxysporum f. sp. colocasiae  0.00907  0.03145  0.00121   \n",
       "1                    Adeno-associated virus 11  0.01695  0.02800  0.00368   \n",
       "2                    chloroplast Nymphaea alba  0.03172  0.02272  0.02798   \n",
       "3                       Metarhizium anisopliae  0.01235  0.02299  0.00311   \n",
       "4     mitochondrion Rhagophthalmus lufengensis  0.09159  0.01166  0.10991   \n",
       "...                                        ...      ...      ...      ...   \n",
       "2805                           Ehrlichia muris  0.05922  0.01397  0.03691   \n",
       "2806                       Pseudonaja textilis  0.01937  0.01717  0.00880   \n",
       "2807   Tomato yellow leaf curl Guangdong virus  0.02443  0.01991  0.02262   \n",
       "2808                         Diaporthe ambigua  0.01270  0.03083  0.00423   \n",
       "2809                     Ehrlichia ruminantium  0.04277  0.01013  0.04263   \n",
       "\n",
       "          UUG      CUU  ...      CGG      AGA      AGG      GAU      GAC  \\\n",
       "0     0.01270  0.01391  ...  0.00000  0.00423  0.00121  0.02873  0.03538   \n",
       "1     0.00590  0.00368  ...  0.00663  0.01400  0.00442  0.01179  0.04348   \n",
       "2     0.02167  0.02062  ...  0.00497  0.01939  0.00770  0.03262  0.00897   \n",
       "3     0.01362  0.01443  ...  0.00519  0.00538  0.00451  0.02396  0.03502   \n",
       "4     0.00833  0.01499  ...  0.00083  0.02748  0.00000  0.01249  0.00083   \n",
       "...       ...      ...  ...      ...      ...      ...      ...      ...   \n",
       "2805  0.00974  0.01256  ...  0.00026  0.01154  0.00500  0.03922  0.01025   \n",
       "2806  0.01519  0.01398  ...  0.00220  0.01552  0.00902  0.03257  0.02487   \n",
       "2807  0.01267  0.00905  ...  0.00543  0.01900  0.01448  0.03710  0.00995   \n",
       "2808  0.02116  0.01511  ...  0.00726  0.01088  0.01391  0.02781  0.03869   \n",
       "2809  0.00716  0.01181  ...  0.00147  0.01525  0.00405  0.03973  0.00838   \n",
       "\n",
       "          GAA      GAG      UAA      UAG      UGA  \n",
       "0     0.00544  0.01875  0.00121  0.00121  0.00000  \n",
       "1     0.01548  0.04274  0.00147  0.00000  0.00000  \n",
       "2     0.03852  0.01487  0.00164  0.00090  0.00097  \n",
       "3     0.01647  0.03424  0.00104  0.00062  0.00032  \n",
       "4     0.01873  0.00250  0.00291  0.00125  0.02581  \n",
       "...       ...      ...      ...      ...      ...  \n",
       "2805  0.03473  0.00948  0.00282  0.00090  0.00000  \n",
       "2806  0.03720  0.01805  0.00088  0.00143  0.00165  \n",
       "2807  0.02805  0.02081  0.00362  0.00090  0.00090  \n",
       "2808  0.01935  0.03688  0.00000  0.00000  0.00121  \n",
       "2809  0.03956  0.00898  0.00234  0.00066  0.00066  \n",
       "\n",
       "[2810 rows x 69 columns]"
      ]
     },
     "execution_count": 261,
     "metadata": {},
     "output_type": "execute_result"
    }
   ],
   "source": [
    "df_test"
   ]
  },
  {
   "cell_type": "code",
   "execution_count": 262,
   "id": "9fcebf89",
   "metadata": {},
   "outputs": [
    {
     "data": {
      "text/plain": [
       "{0, 1, 2, 3, 4, 5, 6, 7, 9, 12}"
      ]
     },
     "execution_count": 262,
     "metadata": {},
     "output_type": "execute_result"
    }
   ],
   "source": [
    "set(df_train['DNAtype'].values)"
   ]
  },
  {
   "cell_type": "code",
   "execution_count": 263,
   "id": "6cb1b12a",
   "metadata": {},
   "outputs": [
    {
     "data": {
      "text/plain": [
       "{0, 1, 2, 3, 4, 5, 6, 7, 9, 12}"
      ]
     },
     "execution_count": 263,
     "metadata": {},
     "output_type": "execute_result"
    }
   ],
   "source": [
    "set(df_test['DNAtype'].values)"
   ]
  },
  {
   "cell_type": "code",
   "execution_count": 264,
   "id": "4448e811",
   "metadata": {},
   "outputs": [
    {
     "data": {
      "text/plain": [
       "Text(0.5, 1.0, 'SpeciesID')"
      ]
     },
     "execution_count": 264,
     "metadata": {},
     "output_type": "execute_result"
    },
    {
     "data": {
      "image/png": "[encoded data removed]",
      "text/plain": [
       "<Figure size 432x288 with 1 Axes>"
      ]
     },
     "metadata": {},
     "output_type": "display_data"
    }
   ],
   "source": [
    "venn2([set(df_train['SpeciesID'].values), set(df_test['SpeciesID'].values)], set_labels = ('train','test'))\n",
    "plt.title('SpeciesID')"
   ]
  },
  {
   "cell_type": "code",
   "execution_count": 265,
   "id": "501a458f",
   "metadata": {},
   "outputs": [
    {
     "data": {
      "text/plain": [
       "Text(0.5, 1.0, 'Ncodons')"
      ]
     },
     "execution_count": 265,
     "metadata": {},
     "output_type": "execute_result"
    },
    {
     "data": {
      "image/png": "[encoded data removed]",
      "text/plain": [
       "<Figure size 432x288 with 1 Axes>"
      ]
     },
     "metadata": {},
     "output_type": "display_data"
    }
   ],
   "source": [
    "venn2([set(df_train['UUU'].values), set(df_test['UUU'].values)], set_labels = ('train','test'))\n",
    "plt.title('Ncodons')"
   ]
  },
  {
   "cell_type": "code",
   "execution_count": 266,
   "id": "8fccce36",
   "metadata": {},
   "outputs": [
    {
     "data": {
      "text/plain": [
       "Text(0.5, 1.0, 'SpeciesName')"
      ]
     },
     "execution_count": 266,
     "metadata": {},
     "output_type": "execute_result"
    },
    {
     "data": {
      "image/png": "[encoded data removed]",
      "text/plain": [
       "<Figure size 432x288 with 1 Axes>"
      ]
     },
     "metadata": {},
     "output_type": "display_data"
    }
   ],
   "source": [
    "venn2([set(df_train['SpeciesName'].values), set(df_test['SpeciesName'].values)], set_labels = ('train','test'))\n",
    "plt.title('SpeciesName')"
   ]
  },
  {
   "cell_type": "code",
   "execution_count": 315,
   "id": "d7e1bbed",
   "metadata": {},
   "outputs": [],
   "source": [
    "df_train = pd.get_dummies(df_train,columns=['DNAtype'])\n",
    "df_test = pd.get_dummies(df_test,columns=['DNAtype'])"
   ]
  },
  {
   "cell_type": "code",
   "execution_count": 268,
   "id": "a6430575",
   "metadata": {},
   "outputs": [
    {
     "data": {
      "text/plain": [
       "((2810, 78), (10216, 79))"
      ]
     },
     "execution_count": 268,
     "metadata": {},
     "output_type": "execute_result"
    }
   ],
   "source": [
    "df_test.shape,df_train.shape"
   ]
  },
  {
   "cell_type": "code",
   "execution_count": 269,
   "id": "b6a4e795",
   "metadata": {},
   "outputs": [
    {
     "data": {
      "text/html": [
       "<div>\n",
       "<style scoped>\n",
       "    .dataframe tbody tr th:only-of-type {\n",
       "        vertical-align: middle;\n",
       "    }\n",
       "\n",
       "    .dataframe tbody tr th {\n",
       "        vertical-align: top;\n",
       "    }\n",
       "\n",
       "    .dataframe thead th {\n",
       "        text-align: right;\n",
       "    }\n",
       "</style>\n",
       "<table border=\"1\" class=\"dataframe\">\n",
       "  <thead>\n",
       "    <tr style=\"text-align: right;\">\n",
       "      <th></th>\n",
       "      <th>Kingdom</th>\n",
       "      <th>SpeciesID</th>\n",
       "      <th>Ncodons</th>\n",
       "      <th>SpeciesName</th>\n",
       "      <th>UUU</th>\n",
       "      <th>UUC</th>\n",
       "      <th>UUA</th>\n",
       "      <th>UUG</th>\n",
       "      <th>CUU</th>\n",
       "      <th>CUC</th>\n",
       "      <th>...</th>\n",
       "      <th>DNAtype_0</th>\n",
       "      <th>DNAtype_1</th>\n",
       "      <th>DNAtype_2</th>\n",
       "      <th>DNAtype_3</th>\n",
       "      <th>DNAtype_4</th>\n",
       "      <th>DNAtype_5</th>\n",
       "      <th>DNAtype_6</th>\n",
       "      <th>DNAtype_7</th>\n",
       "      <th>DNAtype_9</th>\n",
       "      <th>DNAtype_12</th>\n",
       "    </tr>\n",
       "  </thead>\n",
       "  <tbody>\n",
       "    <tr>\n",
       "      <th>0</th>\n",
       "      <td>plant</td>\n",
       "      <td>3886</td>\n",
       "      <td>4181</td>\n",
       "      <td>Phaseolus coccineus</td>\n",
       "      <td>0.02392</td>\n",
       "      <td>0.02966</td>\n",
       "      <td>0.00765</td>\n",
       "      <td>0.01794</td>\n",
       "      <td>0.01937</td>\n",
       "      <td>0.02392</td>\n",
       "      <td>...</td>\n",
       "      <td>1</td>\n",
       "      <td>0</td>\n",
       "      <td>0</td>\n",
       "      <td>0</td>\n",
       "      <td>0</td>\n",
       "      <td>0</td>\n",
       "      <td>0</td>\n",
       "      <td>0</td>\n",
       "      <td>0</td>\n",
       "      <td>0</td>\n",
       "    </tr>\n",
       "    <tr>\n",
       "      <th>1</th>\n",
       "      <td>archaea</td>\n",
       "      <td>146920</td>\n",
       "      <td>1716</td>\n",
       "      <td>Acidianus tengchongenses</td>\n",
       "      <td>0.01748</td>\n",
       "      <td>0.01049</td>\n",
       "      <td>0.05361</td>\n",
       "      <td>0.01282</td>\n",
       "      <td>0.01107</td>\n",
       "      <td>0.00117</td>\n",
       "      <td>...</td>\n",
       "      <td>1</td>\n",
       "      <td>0</td>\n",
       "      <td>0</td>\n",
       "      <td>0</td>\n",
       "      <td>0</td>\n",
       "      <td>0</td>\n",
       "      <td>0</td>\n",
       "      <td>0</td>\n",
       "      <td>0</td>\n",
       "      <td>0</td>\n",
       "    </tr>\n",
       "    <tr>\n",
       "      <th>2</th>\n",
       "      <td>virus</td>\n",
       "      <td>220938</td>\n",
       "      <td>1103</td>\n",
       "      <td>Tomato yellow leaf curl virus-[Almeria]</td>\n",
       "      <td>0.02357</td>\n",
       "      <td>0.02267</td>\n",
       "      <td>0.01632</td>\n",
       "      <td>0.01088</td>\n",
       "      <td>0.01088</td>\n",
       "      <td>0.01269</td>\n",
       "      <td>...</td>\n",
       "      <td>1</td>\n",
       "      <td>0</td>\n",
       "      <td>0</td>\n",
       "      <td>0</td>\n",
       "      <td>0</td>\n",
       "      <td>0</td>\n",
       "      <td>0</td>\n",
       "      <td>0</td>\n",
       "      <td>0</td>\n",
       "      <td>0</td>\n",
       "    </tr>\n",
       "    <tr>\n",
       "      <th>3</th>\n",
       "      <td>plant</td>\n",
       "      <td>35128</td>\n",
       "      <td>9379</td>\n",
       "      <td>mitochondrion Thalassiosira pseudonana</td>\n",
       "      <td>0.0708</td>\n",
       "      <td>0.01397</td>\n",
       "      <td>0.07389</td>\n",
       "      <td>0.01685</td>\n",
       "      <td>0.01514</td>\n",
       "      <td>0.00117</td>\n",
       "      <td>...</td>\n",
       "      <td>0</td>\n",
       "      <td>1</td>\n",
       "      <td>0</td>\n",
       "      <td>0</td>\n",
       "      <td>0</td>\n",
       "      <td>0</td>\n",
       "      <td>0</td>\n",
       "      <td>0</td>\n",
       "      <td>0</td>\n",
       "      <td>0</td>\n",
       "    </tr>\n",
       "    <tr>\n",
       "      <th>4</th>\n",
       "      <td>rodent</td>\n",
       "      <td>9995</td>\n",
       "      <td>1520</td>\n",
       "      <td>mitochondrion Marmota monax</td>\n",
       "      <td>0.04671</td>\n",
       "      <td>0.02632</td>\n",
       "      <td>0.03421</td>\n",
       "      <td>0.00000</td>\n",
       "      <td>0.03882</td>\n",
       "      <td>0.02500</td>\n",
       "      <td>...</td>\n",
       "      <td>0</td>\n",
       "      <td>1</td>\n",
       "      <td>0</td>\n",
       "      <td>0</td>\n",
       "      <td>0</td>\n",
       "      <td>0</td>\n",
       "      <td>0</td>\n",
       "      <td>0</td>\n",
       "      <td>0</td>\n",
       "      <td>0</td>\n",
       "    </tr>\n",
       "    <tr>\n",
       "      <th>...</th>\n",
       "      <td>...</td>\n",
       "      <td>...</td>\n",
       "      <td>...</td>\n",
       "      <td>...</td>\n",
       "      <td>...</td>\n",
       "      <td>...</td>\n",
       "      <td>...</td>\n",
       "      <td>...</td>\n",
       "      <td>...</td>\n",
       "      <td>...</td>\n",
       "      <td>...</td>\n",
       "      <td>...</td>\n",
       "      <td>...</td>\n",
       "      <td>...</td>\n",
       "      <td>...</td>\n",
       "      <td>...</td>\n",
       "      <td>...</td>\n",
       "      <td>...</td>\n",
       "      <td>...</td>\n",
       "      <td>...</td>\n",
       "      <td>...</td>\n",
       "    </tr>\n",
       "    <tr>\n",
       "      <th>10211</th>\n",
       "      <td>virus</td>\n",
       "      <td>390237</td>\n",
       "      <td>3057</td>\n",
       "      <td>White lupin mosaic virus</td>\n",
       "      <td>0.02781</td>\n",
       "      <td>0.01897</td>\n",
       "      <td>0.01505</td>\n",
       "      <td>0.02715</td>\n",
       "      <td>0.01636</td>\n",
       "      <td>0.01178</td>\n",
       "      <td>...</td>\n",
       "      <td>1</td>\n",
       "      <td>0</td>\n",
       "      <td>0</td>\n",
       "      <td>0</td>\n",
       "      <td>0</td>\n",
       "      <td>0</td>\n",
       "      <td>0</td>\n",
       "      <td>0</td>\n",
       "      <td>0</td>\n",
       "      <td>0</td>\n",
       "    </tr>\n",
       "    <tr>\n",
       "      <th>10212</th>\n",
       "      <td>virus</td>\n",
       "      <td>284687</td>\n",
       "      <td>3646</td>\n",
       "      <td>Amasya cherry disease associated chrysovirus</td>\n",
       "      <td>0.00905</td>\n",
       "      <td>0.01865</td>\n",
       "      <td>0.00521</td>\n",
       "      <td>0.02030</td>\n",
       "      <td>0.00933</td>\n",
       "      <td>0.00494</td>\n",
       "      <td>...</td>\n",
       "      <td>1</td>\n",
       "      <td>0</td>\n",
       "      <td>0</td>\n",
       "      <td>0</td>\n",
       "      <td>0</td>\n",
       "      <td>0</td>\n",
       "      <td>0</td>\n",
       "      <td>0</td>\n",
       "      <td>0</td>\n",
       "      <td>0</td>\n",
       "    </tr>\n",
       "    <tr>\n",
       "      <th>10213</th>\n",
       "      <td>plant</td>\n",
       "      <td>3721</td>\n",
       "      <td>1289</td>\n",
       "      <td>Crambe hispanica subsp. abyssinica</td>\n",
       "      <td>0.0256</td>\n",
       "      <td>0.0225</td>\n",
       "      <td>0.01164</td>\n",
       "      <td>0.01939</td>\n",
       "      <td>0.02870</td>\n",
       "      <td>0.01629</td>\n",
       "      <td>...</td>\n",
       "      <td>1</td>\n",
       "      <td>0</td>\n",
       "      <td>0</td>\n",
       "      <td>0</td>\n",
       "      <td>0</td>\n",
       "      <td>0</td>\n",
       "      <td>0</td>\n",
       "      <td>0</td>\n",
       "      <td>0</td>\n",
       "      <td>0</td>\n",
       "    </tr>\n",
       "    <tr>\n",
       "      <th>10214</th>\n",
       "      <td>plant</td>\n",
       "      <td>36902</td>\n",
       "      <td>11065</td>\n",
       "      <td>Medicago sativa subsp. x varia</td>\n",
       "      <td>0.02178</td>\n",
       "      <td>0.01663</td>\n",
       "      <td>0.01175</td>\n",
       "      <td>0.02332</td>\n",
       "      <td>0.02585</td>\n",
       "      <td>0.01157</td>\n",
       "      <td>...</td>\n",
       "      <td>1</td>\n",
       "      <td>0</td>\n",
       "      <td>0</td>\n",
       "      <td>0</td>\n",
       "      <td>0</td>\n",
       "      <td>0</td>\n",
       "      <td>0</td>\n",
       "      <td>0</td>\n",
       "      <td>0</td>\n",
       "      <td>0</td>\n",
       "    </tr>\n",
       "    <tr>\n",
       "      <th>10215</th>\n",
       "      <td>virus</td>\n",
       "      <td>39007</td>\n",
       "      <td>27774</td>\n",
       "      <td>Rinderpest virus</td>\n",
       "      <td>0.01231</td>\n",
       "      <td>0.01653</td>\n",
       "      <td>0.01321</td>\n",
       "      <td>0.01599</td>\n",
       "      <td>0.01530</td>\n",
       "      <td>0.01991</td>\n",
       "      <td>...</td>\n",
       "      <td>1</td>\n",
       "      <td>0</td>\n",
       "      <td>0</td>\n",
       "      <td>0</td>\n",
       "      <td>0</td>\n",
       "      <td>0</td>\n",
       "      <td>0</td>\n",
       "      <td>0</td>\n",
       "      <td>0</td>\n",
       "      <td>0</td>\n",
       "    </tr>\n",
       "  </tbody>\n",
       "</table>\n",
       "<p>10216 rows × 79 columns</p>\n",
       "</div>"
      ],
      "text/plain": [
       "       Kingdom  SpeciesID  Ncodons  \\\n",
       "0        plant       3886     4181   \n",
       "1      archaea     146920     1716   \n",
       "2        virus     220938     1103   \n",
       "3        plant      35128     9379   \n",
       "4       rodent       9995     1520   \n",
       "...        ...        ...      ...   \n",
       "10211    virus     390237     3057   \n",
       "10212    virus     284687     3646   \n",
       "10213    plant       3721     1289   \n",
       "10214    plant      36902    11065   \n",
       "10215    virus      39007    27774   \n",
       "\n",
       "                                        SpeciesName      UUU      UUC  \\\n",
       "0                               Phaseolus coccineus  0.02392  0.02966   \n",
       "1                          Acidianus tengchongenses  0.01748  0.01049   \n",
       "2           Tomato yellow leaf curl virus-[Almeria]  0.02357  0.02267   \n",
       "3            mitochondrion Thalassiosira pseudonana   0.0708  0.01397   \n",
       "4                       mitochondrion Marmota monax  0.04671  0.02632   \n",
       "...                                             ...      ...      ...   \n",
       "10211                      White lupin mosaic virus  0.02781  0.01897   \n",
       "10212  Amasya cherry disease associated chrysovirus  0.00905  0.01865   \n",
       "10213            Crambe hispanica subsp. abyssinica   0.0256   0.0225   \n",
       "10214                Medicago sativa subsp. x varia  0.02178  0.01663   \n",
       "10215                              Rinderpest virus  0.01231  0.01653   \n",
       "\n",
       "           UUA      UUG      CUU      CUC  ...  DNAtype_0  DNAtype_1  \\\n",
       "0      0.00765  0.01794  0.01937  0.02392  ...          1          0   \n",
       "1      0.05361  0.01282  0.01107  0.00117  ...          1          0   \n",
       "2      0.01632  0.01088  0.01088  0.01269  ...          1          0   \n",
       "3      0.07389  0.01685  0.01514  0.00117  ...          0          1   \n",
       "4      0.03421  0.00000  0.03882  0.02500  ...          0          1   \n",
       "...        ...      ...      ...      ...  ...        ...        ...   \n",
       "10211  0.01505  0.02715  0.01636  0.01178  ...          1          0   \n",
       "10212  0.00521  0.02030  0.00933  0.00494  ...          1          0   \n",
       "10213  0.01164  0.01939  0.02870  0.01629  ...          1          0   \n",
       "10214  0.01175  0.02332  0.02585  0.01157  ...          1          0   \n",
       "10215  0.01321  0.01599  0.01530  0.01991  ...          1          0   \n",
       "\n",
       "       DNAtype_2  DNAtype_3  DNAtype_4  DNAtype_5  DNAtype_6  DNAtype_7  \\\n",
       "0              0          0          0          0          0          0   \n",
       "1              0          0          0          0          0          0   \n",
       "2              0          0          0          0          0          0   \n",
       "3              0          0          0          0          0          0   \n",
       "4              0          0          0          0          0          0   \n",
       "...          ...        ...        ...        ...        ...        ...   \n",
       "10211          0          0          0          0          0          0   \n",
       "10212          0          0          0          0          0          0   \n",
       "10213          0          0          0          0          0          0   \n",
       "10214          0          0          0          0          0          0   \n",
       "10215          0          0          0          0          0          0   \n",
       "\n",
       "       DNAtype_9  DNAtype_12  \n",
       "0              0           0  \n",
       "1              0           0  \n",
       "2              0           0  \n",
       "3              0           0  \n",
       "4              0           0  \n",
       "...          ...         ...  \n",
       "10211          0           0  \n",
       "10212          0           0  \n",
       "10213          0           0  \n",
       "10214          0           0  \n",
       "10215          0           0  \n",
       "\n",
       "[10216 rows x 79 columns]"
      ]
     },
     "execution_count": 269,
     "metadata": {},
     "output_type": "execute_result"
    }
   ],
   "source": [
    "df_train"
   ]
  },
  {
   "cell_type": "code",
   "execution_count": 270,
   "id": "fc588db1",
   "metadata": {},
   "outputs": [],
   "source": [
    "# cols_rm = ['SpeciesID']\n",
    "# df_train.drop(cols_rm,axis=1,inplace=True)\n",
    "# df_test.drop(cols_rm,axis=1,inplace=True)"
   ]
  },
  {
   "cell_type": "code",
   "execution_count": 271,
   "id": "3adb1356",
   "metadata": {},
   "outputs": [],
   "source": [
    "df_train['UUU'] = pd.to_numeric(df_train['UUU'],errors='coerce')\n",
    "# df_train['UUC'] = pd.to_numeric(df_train['UUC'],errors='coerce')\n",
    "\n",
    "df_test['UUU'] = pd.to_numeric(df_test['UUU'],errors='coerce')\n",
    "# df_test['UUC'] = pd.to_numeric(df_test['UUC'],errors='coerce')"
   ]
  },
  {
   "cell_type": "code",
   "execution_count": 272,
   "id": "2a16cb53",
   "metadata": {},
   "outputs": [],
   "source": [
    "# # df_train.drop(['Kingdom', 'UUU', 'UUC'],axis=1,inplace=True)\n",
    "# df_test.drop(['UUU', 'UUC'],axis=1,inplace=True)"
   ]
  },
  {
   "cell_type": "code",
   "execution_count": 273,
   "id": "b051b54c",
   "metadata": {},
   "outputs": [],
   "source": [
    "cumulative_sum = df_train.groupby('Ncodons')[\"Kingdom_encoded\"].cumsum() - df_train[\"Kingdom_encoded\"]\n",
    "cumulative_count = df_train.groupby('Ncodons').cumcount()\n",
    "df_train['Ncodons' + \"_mean_target\"] = cumulative_sum/cumulative_count\n",
    "\n",
    "vals = df_train.groupby('Ncodons').agg({'Kingdom_encoded':['mean']})\n",
    "vals.columns = [x[0] for x in vals.columns]\n",
    "vals.rename(columns={'Kingdom_encoded':'Ncodons_mean_target'},inplace=True)\n",
    "\n",
    "df_test = pd.merge(df_test,vals,on='Ncodons',how='left')\n",
    "df_train.drop(['Ncodons'],axis=1,inplace=True)\n",
    "df_test.drop(['Ncodons'],axis=1,inplace=True)"
   ]
  },
  {
   "cell_type": "code",
   "execution_count": 274,
   "id": "3a53982a",
   "metadata": {},
   "outputs": [],
   "source": [
    "cumulative_sum = df_train.groupby('SpeciesID')[\"Kingdom_encoded\"].cumsum() - df_train[\"Kingdom_encoded\"]\n",
    "cumulative_count = df_train.groupby('SpeciesID').cumcount()\n",
    "df_train['SpeciesID' + \"_mean_target\"] = cumulative_sum/cumulative_count\n",
    "\n",
    "vals = df_train.groupby('SpeciesID').agg({'Kingdom_encoded':['mean']})\n",
    "vals.columns = [x[0] for x in vals.columns]\n",
    "vals.rename(columns={'Kingdom_encoded':'SpeciesID_mean_target'},inplace=True)\n",
    "\n",
    "df_test = pd.merge(df_test,vals,on='SpeciesID',how='left')\n",
    "df_train.drop(['SpeciesID','Kingdom'],axis=1,inplace=True)\n",
    "df_test.drop(['SpeciesID'],axis=1,inplace=True)"
   ]
  },
  {
   "cell_type": "code",
   "execution_count": 275,
   "id": "c35ce7c0",
   "metadata": {},
   "outputs": [],
   "source": [
    "cumulative_sum = df_train.groupby('UUU')[\"Kingdom_encoded\"].cumsum() - df_train[\"Kingdom_encoded\"]\n",
    "cumulative_count = df_train.groupby('UUU').cumcount()\n",
    "df_train['UUU' + \"_mean_target\"] = cumulative_sum/cumulative_count\n",
    "\n",
    "vals = df_train.groupby('UUU').agg({'Kingdom_encoded':['mean']})\n",
    "vals.columns = [x[0] for x in vals.columns]\n",
    "vals.rename(columns={'Kingdom_encoded':'UUU_mean_target'},inplace=True)\n",
    "\n",
    "df_test = pd.merge(df_test,vals,on='UUU',how='left')\n",
    "df_train.drop(['UUU'],axis=1,inplace=True)\n",
    "df_test.drop(['UUU'],axis=1,inplace=True)"
   ]
  },
  {
   "cell_type": "code",
   "execution_count": 276,
   "id": "12504b0e",
   "metadata": {},
   "outputs": [
    {
     "data": {
      "text/plain": [
       "(2810, 78)"
      ]
     },
     "execution_count": 276,
     "metadata": {},
     "output_type": "execute_result"
    }
   ],
   "source": [
    "df_test.shape"
   ]
  },
  {
   "cell_type": "code",
   "execution_count": 277,
   "id": "5e3b6f72",
   "metadata": {},
   "outputs": [
    {
     "name": "stderr",
     "output_type": "stream",
     "text": [
      "C:\\Users\\kjuneja\\Anaconda3\\lib\\site-packages\\sklearn\\utils\\deprecation.py:87: FutureWarning: Function get_feature_names is deprecated; get_feature_names is deprecated in 1.0 and will be removed in 1.2. Please use get_feature_names_out instead.\n",
      "  warnings.warn(msg, category=FutureWarning)\n",
      "C:\\Users\\kjuneja\\Anaconda3\\lib\\site-packages\\sklearn\\utils\\deprecation.py:87: FutureWarning: Function get_feature_names is deprecated; get_feature_names is deprecated in 1.0 and will be removed in 1.2. Please use get_feature_names_out instead.\n",
      "  warnings.warn(msg, category=FutureWarning)\n"
     ]
    }
   ],
   "source": [
    "tf = TfidfVectorizer()\n",
    "train_vector = tf.fit_transform(df_train['SpeciesName'])\n",
    "train_vector = pd.DataFrame(train_vector.toarray(), columns = tf.get_feature_names())\n",
    "test_vector = tf.transform(df_test['SpeciesName'])\n",
    "test_vector = pd.DataFrame(test_vector.toarray(), columns = tf.get_feature_names())"
   ]
  },
  {
   "cell_type": "code",
   "execution_count": 278,
   "id": "cc9022a8",
   "metadata": {},
   "outputs": [],
   "source": [
    "cvec = CountVectorizer()\n",
    "train_vector_cvec = cvec.fit_transform(df_train['SpeciesName'])"
   ]
  },
  {
   "cell_type": "code",
   "execution_count": 279,
   "id": "f98f5226",
   "metadata": {},
   "outputs": [
    {
     "name": "stderr",
     "output_type": "stream",
     "text": [
      "C:\\Users\\kjuneja\\Anaconda3\\lib\\site-packages\\sklearn\\utils\\deprecation.py:87: FutureWarning: Function get_feature_names is deprecated; get_feature_names is deprecated in 1.0 and will be removed in 1.2. Please use get_feature_names_out instead.\n",
      "  warnings.warn(msg, category=FutureWarning)\n"
     ]
    }
   ],
   "source": [
    "cols = []\n",
    "for i in cvec.get_feature_names():\n",
    "    cols.append(i+'_cvec')"
   ]
  },
  {
   "cell_type": "code",
   "execution_count": 280,
   "id": "c0b3bb24",
   "metadata": {},
   "outputs": [],
   "source": [
    "train_vector_cvec = pd.DataFrame(train_vector_cvec.toarray(), columns=cols)\n",
    "test_vector_cvec = cvec.transform(df_test['SpeciesName'])\n",
    "test_vector_cvec = pd.DataFrame(test_vector_cvec.toarray(), columns=cols)"
   ]
  },
  {
   "cell_type": "code",
   "execution_count": 281,
   "id": "dc475209",
   "metadata": {},
   "outputs": [],
   "source": [
    "df_train = pd.concat([df_train,train_vector],axis=1)\n",
    "df_test = pd.concat([df_test,test_vector],axis=1)\n",
    "df_train = pd.concat([df_train,train_vector_cvec],axis=1)\n",
    "df_test = pd.concat([df_test,test_vector_cvec],axis=1)"
   ]
  },
  {
   "cell_type": "code",
   "execution_count": 282,
   "id": "a1a260b3",
   "metadata": {},
   "outputs": [],
   "source": [
    "df_train.drop(['SpeciesName','UUC'],axis=1,inplace=True)\n",
    "df_test.drop(['SpeciesName','UUC'],axis=1,inplace=True)"
   ]
  },
  {
   "cell_type": "code",
   "execution_count": 283,
   "id": "8cbcab64",
   "metadata": {},
   "outputs": [],
   "source": [
    "# y = df_train['Kingdom_encoded']"
   ]
  },
  {
   "cell_type": "code",
   "execution_count": 284,
   "id": "236d1d8e",
   "metadata": {},
   "outputs": [
    {
     "data": {
      "text/plain": [
       "Index(['UUA', 'UUG', 'CUU', 'CUC', 'CUA', 'CUG', 'AUU', 'AUC', 'AUA', 'AUG',\n",
       "       ...\n",
       "       'zonotrichia_cvec', 'zooepidemicus_cvec', 'zootoca_cvec',\n",
       "       'zostera_cvec', 'zosterops_cvec', 'zoym_cvec', 'zucchini_cvec',\n",
       "       'zw_cvec', 'zygosaccharomyces_cvec', 'zymomonas_cvec'],\n",
       "      dtype='object', length=22904)"
      ]
     },
     "execution_count": 284,
     "metadata": {},
     "output_type": "execute_result"
    }
   ],
   "source": [
    "df_train.columns"
   ]
  },
  {
   "cell_type": "code",
   "execution_count": 285,
   "id": "96a2d8a6",
   "metadata": {},
   "outputs": [
    {
     "data": {
      "text/plain": [
       "Index(['id', 'UUA', 'UUG', 'CUU', 'CUC', 'CUA', 'CUG', 'AUU', 'AUC', 'AUA',\n",
       "       ...\n",
       "       'zonotrichia_cvec', 'zooepidemicus_cvec', 'zootoca_cvec',\n",
       "       'zostera_cvec', 'zosterops_cvec', 'zoym_cvec', 'zucchini_cvec',\n",
       "       'zw_cvec', 'zygosaccharomyces_cvec', 'zymomonas_cvec'],\n",
       "      dtype='object', length=22904)"
      ]
     },
     "execution_count": 285,
     "metadata": {},
     "output_type": "execute_result"
    }
   ],
   "source": [
    "df_test.columns"
   ]
  },
  {
   "cell_type": "code",
   "execution_count": 286,
   "id": "b69186c8",
   "metadata": {},
   "outputs": [
    {
     "data": {
      "text/plain": [
       "{'Kingdom_encoded', 'id'}"
      ]
     },
     "execution_count": 286,
     "metadata": {},
     "output_type": "execute_result"
    }
   ],
   "source": [
    "set(df_train.columns) ^ set(df_test.columns)"
   ]
  },
  {
   "cell_type": "code",
   "execution_count": 287,
   "id": "f48d8888",
   "metadata": {},
   "outputs": [],
   "source": [
    "# Creating and holdout set and train \n",
    "# X_train,X_valid,y_train,y_valid = train_test_split(df_train.drop(['Kingdom_encoded'],axis=1),df_train['Kingdom_encoded'],random_state=22,test_size=0.20,stratify=df_train['Kingdom_encoded'])"
   ]
  },
  {
   "cell_type": "code",
   "execution_count": 288,
   "id": "f10038d1",
   "metadata": {},
   "outputs": [],
   "source": [
    "y = df_train['Kingdom_encoded']"
   ]
  },
  {
   "cell_type": "code",
   "execution_count": 289,
   "id": "65b0183c",
   "metadata": {},
   "outputs": [],
   "source": [
    "def evaluate_F1_lgb(truth,predictions):\n",
    "    pred_labels = np.round(predictions)\n",
    "    f1=f1_score(truth,pred_labels)\n",
    "    return ('F1', f1, True)"
   ]
  },
  {
   "cell_type": "code",
   "execution_count": 290,
   "id": "1aedf6f6",
   "metadata": {},
   "outputs": [
    {
     "ename": "NameError",
     "evalue": "name 'X_train' is not defined",
     "output_type": "error",
     "traceback": [
      "\u001b[1;31m---------------------------------------------------------------------------\u001b[0m",
      "\u001b[1;31mNameError\u001b[0m                                 Traceback (most recent call last)",
      "Input \u001b[1;32mIn [290]\u001b[0m, in \u001b[0;36m<cell line: 1>\u001b[1;34m()\u001b[0m\n\u001b[1;32m----> 1\u001b[0m \u001b[43mX_train\u001b[49m\u001b[38;5;241m.\u001b[39mshape\n",
      "\u001b[1;31mNameError\u001b[0m: name 'X_train' is not defined"
     ]
    }
   ],
   "source": [
    "X_train.shape"
   ]
  },
  {
   "cell_type": "code",
   "execution_count": 291,
   "id": "77fb1387",
   "metadata": {},
   "outputs": [
    {
     "ename": "NameError",
     "evalue": "name 'y_train' is not defined",
     "output_type": "error",
     "traceback": [
      "\u001b[1;31m---------------------------------------------------------------------------\u001b[0m",
      "\u001b[1;31mNameError\u001b[0m                                 Traceback (most recent call last)",
      "Input \u001b[1;32mIn [291]\u001b[0m, in \u001b[0;36m<cell line: 1>\u001b[1;34m()\u001b[0m\n\u001b[1;32m----> 1\u001b[0m \u001b[43my_train\u001b[49m\u001b[38;5;241m.\u001b[39mshape\n",
      "\u001b[1;31mNameError\u001b[0m: name 'y_train' is not defined"
     ]
    }
   ],
   "source": [
    "y_train.shape"
   ]
  },
  {
   "cell_type": "code",
   "execution_count": 292,
   "id": "4700ce8d",
   "metadata": {},
   "outputs": [],
   "source": [
    "df_train.drop('Kingdom_encoded',axis=1,inplace=True)"
   ]
  },
  {
   "cell_type": "code",
   "execution_count": null,
   "id": "4d26282e",
   "metadata": {},
   "outputs": [],
   "source": []
  },
  {
   "cell_type": "code",
   "execution_count": null,
   "id": "6ef7454a",
   "metadata": {},
   "outputs": [],
   "source": []
  },
  {
   "cell_type": "code",
   "execution_count": null,
   "id": "e3838523",
   "metadata": {},
   "outputs": [],
   "source": [
    "splits = 7\n",
    "folds = StratifiedKFold(n_splits=splits, shuffle=True, random_state=22)\n",
    "# predictions = np.zeros((len(X_valid),11))\n",
    "oof_preds = np.zeros((len(df_test), 11))\n",
    "final_preds = []\n",
    "for fold_, (trn_idx, val_idx) in enumerate(folds.split(df_train, y)):\n",
    "        print(\"Fold {}\".format(fold_))\n",
    "        X_trn,y_trn = df_train.iloc[trn_idx],y.iloc[trn_idx]\n",
    "        X_val,y_val = df_train.iloc[val_idx],y.iloc[val_idx]\n",
    "        clf = lgb.LGBMClassifier(random_state=22,n_jobs=-1,learning_rate=0.1,n_estimators=5000,is_unbalance=True)\n",
    "        clf.fit(X_trn, y_trn, eval_metric='multi_logloss', eval_set=[(X_val,y_val)], verbose=True,early_stopping_rounds=100)\n",
    "        \n",
    "        y_val_preds = clf.predict_proba(X_val)\n",
    "        final_preds.append(f1_score(y_pred=[np.argmax(x) for x in y_val_preds],y_true=y_val,average='weighted'))\n",
    "#         predictions += clf.predict_proba(X_valid)\n",
    "        oof_preds += clf.predict_proba(df_test.drop('id',axis=1))\n",
    "#         counter = counter + 1\n",
    "oof_preds = oof_preds/splits\n",
    "print(sum(final_preds)/splits)"
   ]
  },
  {
   "cell_type": "code",
   "execution_count": null,
   "id": "25d7d77d",
   "metadata": {},
   "outputs": [],
   "source": [
    "# predictions = predictions/splits"
   ]
  },
  {
   "cell_type": "code",
   "execution_count": null,
   "id": "7e0dcb7e",
   "metadata": {},
   "outputs": [],
   "source": [
    "Counter([np.argmax(x) for x in predictions])"
   ]
  },
  {
   "cell_type": "code",
   "execution_count": null,
   "id": "659071b5",
   "metadata": {},
   "outputs": [],
   "source": [
    "print(f\"F1_score for validation : {f1_score(y_pred=[np.argmax(x) for x in predictions],y_true=y_valid,average='weighted')}\")\n",
    "print(f\"accuracy_score for validation : {accuracy_score(y_pred=[np.argmax(x) for x in predictions],y_true=y_valid)}\")"
   ]
  },
  {
   "cell_type": "code",
   "execution_count": 293,
   "id": "4471cb8a",
   "metadata": {},
   "outputs": [],
   "source": [
    "#final model\n",
    "clf = lgb.LGBMClassifier(random_state=22,n_jobs=-1,learning_rate=0.1,n_estimators=700,is_unbalance=True,num_leaves=40)\n",
    "clf.fit(df_train,y)\n",
    "preds = clf.predict_proba(df_test.drop('id',axis=1))"
   ]
  },
  {
   "cell_type": "code",
   "execution_count": 294,
   "id": "1c2eb158",
   "metadata": {},
   "outputs": [],
   "source": [
    "rev_kindom = {v: k for k, v in kindom_names.items()}\n",
    "rev_encode = {v: k for k, v in encode_label.items()}"
   ]
  },
  {
   "cell_type": "code",
   "execution_count": 295,
   "id": "a8bbf0f7",
   "metadata": {},
   "outputs": [],
   "source": [
    "df_test['preds'] = [np.argmax(x) for x in preds]"
   ]
  },
  {
   "cell_type": "code",
   "execution_count": 296,
   "id": "589d7ee7",
   "metadata": {},
   "outputs": [],
   "source": [
    "df_test['preds'] = df_test['preds'].map(rev_encode)\n",
    "df_test['preds'] = df_test['preds'].map(rev_kindom)"
   ]
  },
  {
   "cell_type": "code",
   "execution_count": 297,
   "id": "d5038b93",
   "metadata": {},
   "outputs": [
    {
     "name": "stderr",
     "output_type": "stream",
     "text": [
      "C:\\Users\\kjuneja\\AppData\\Local\\Temp\\ipykernel_19808\\1005359201.py:2: SettingWithCopyWarning: \n",
      "A value is trying to be set on a copy of a slice from a DataFrame\n",
      "\n",
      "See the caveats in the documentation: https://pandas.pydata.org/pandas-docs/stable/user_guide/indexing.html#returning-a-view-versus-a-copy\n",
      "  df_sub.rename(columns={'preds':'Kingdom'},inplace=True)\n"
     ]
    }
   ],
   "source": [
    "df_sub = df_test[['id','preds']]\n",
    "df_sub.rename(columns={'preds':'Kingdom'},inplace=True)\n",
    "df_sub.to_csv('full_data.csv',index=False)"
   ]
  },
  {
   "cell_type": "code",
   "execution_count": 298,
   "id": "6e353db4",
   "metadata": {},
   "outputs": [
    {
     "data": {
      "text/plain": [
       "bct    626\n",
       "vrl    594\n",
       "pln    582\n",
       "vrt    452\n",
       "inv    262\n",
       "mam    144\n",
       "phg     57\n",
       "pri     35\n",
       "rod     34\n",
       "arc     19\n",
       "plm      5\n",
       "Name: preds, dtype: int64"
      ]
     },
     "execution_count": 298,
     "metadata": {},
     "output_type": "execute_result"
    }
   ],
   "source": [
    "df_test['preds'].value_counts()"
   ]
  },
  {
   "cell_type": "code",
   "execution_count": null,
   "id": "a993ace9",
   "metadata": {},
   "outputs": [],
   "source": []
  },
  {
   "cell_type": "code",
   "execution_count": null,
   "id": "eb11e602",
   "metadata": {},
   "outputs": [],
   "source": []
  }
 ],
 "metadata": {
  "kernelspec": {
   "display_name": "Python 3 (ipykernel)",
   "language": "python",
   "name": "python3"
  },
  "language_info": {
   "codemirror_mode": {
    "name": "ipython",
    "version": 3
   },
   "file_extension": ".py",
   "mimetype": "text/x-python",
   "name": "python",
   "nbconvert_exporter": "python",
   "pygments_lexer": "ipython3",
   "version": "3.9.12"
  }
 },
 "nbformat": 4,
 "nbformat_minor": 5
}
